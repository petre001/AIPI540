{
  "cells": [
    {
      "cell_type": "markdown",
      "metadata": {
        "id": "view-in-github",
        "colab_type": "text"
      },
      "source": [
        "<a href=\"https://colab.research.google.com/github/petre001/AIPI540/blob/main/main_figs.ipynb\" target=\"_parent\"><img src=\"https://colab.research.google.com/assets/colab-badge.svg\" alt=\"Open In Colab\"/></a>"
      ]
    },
    {
      "cell_type": "markdown",
      "metadata": {
        "id": "Hd6d5Y8L2V85"
      },
      "source": [
        "# Neural Nets for Neural Images: Assessing Brain Age with Computer Vision\n",
        "### Contributors: Dr. Jeffrey Petrella, Maria Williams\n",
        "\n",
        "This project uses transfer learning to train a ResNet18 model to identify the age of a brain from its MRI scan. This kind of identification could potentially be used to flag various congnitive disorders such as Alzhiemers Disease if the \"brain age\" is identified as more advanced than the patient's chronological age."
      ]
    },
    {
      "cell_type": "markdown",
      "metadata": {
        "id": "N3fJN9KGJ7UF"
      },
      "source": [
        "## Step 1: Link Notebook to GitHub"
      ]
    },
    {
      "cell_type": "code",
      "execution_count": 1,
      "metadata": {
        "colab": {
          "base_uri": "https://localhost:8080/"
        },
        "id": "nZRokJihAd3v",
        "outputId": "1a964312-cde3-4770-9369-fe91ebb1add0"
      },
      "outputs": [
        {
          "output_type": "stream",
          "name": "stdout",
          "text": [
            "Cloning into 'BrainAgingComputerVision'...\n",
            "remote: Enumerating objects: 386, done.\u001b[K\n",
            "remote: Counting objects: 100% (386/386), done.\u001b[K\n",
            "remote: Compressing objects: 100% (205/205), done.\u001b[K\n",
            "remote: Total 386 (delta 174), reused 383 (delta 173), pack-reused 0\u001b[K\n",
            "Receiving objects: 100% (386/386), 282.61 MiB | 20.66 MiB/s, done.\n",
            "Resolving deltas: 100% (174/174), done.\n",
            "Checking out files: 100% (16/16), done.\n"
          ]
        }
      ],
      "source": [
        "# Remove Colab default sample_data\n",
        "!rm -r ./sample_data\n",
        "\n",
        "# Clone GitHub files to colab workspace\n",
        "repo_name = \"BrainAgingComputerVision\" # Enter repo name\n",
        "git_path = 'https://github.com/MRWilliamsGit/BrainAgingComputerVision.git'\n",
        "!git clone \"{git_path}\""
      ]
    },
    {
      "cell_type": "markdown",
      "source": [
        "## Step 2: Install and Import Dependencies"
      ],
      "metadata": {
        "id": "SnLUn6QYv71R"
      }
    },
    {
      "cell_type": "code",
      "execution_count": 3,
      "metadata": {
        "colab": {
          "base_uri": "https://localhost:8080/"
        },
        "id": "FyMsybdXt8hV",
        "outputId": "b3ab34f8-7752-436e-bdfe-247688c956f9"
      },
      "outputs": [
        {
          "output_type": "stream",
          "name": "stdout",
          "text": [
            "\u001b[31mERROR: pip's dependency resolver does not currently take into account all the packages that are installed. This behaviour is the source of the following dependency conflicts.\n",
            "flask 1.1.4 requires click<8.0,>=5.1, but you have click 8.1.3 which is incompatible.\n",
            "datascience 0.10.6 requires coverage==3.7.1, but you have coverage 6.4.1 which is incompatible.\n",
            "datascience 0.10.6 requires folium==0.2.1, but you have folium 0.8.3 which is incompatible.\n",
            "coveralls 0.5 requires coverage<3.999,>=3.6, but you have coverage 6.4.1 which is incompatible.\u001b[0m\n"
          ]
        }
      ],
      "source": [
        "#If an error regarding zipfile appears, simply run block again\n",
        "!pip3 install -r \"{os.path.join(repo_name,'requirements.txt')}\"  > /dev/null\n",
        "\n",
        "import os\n",
        "import shutil\n",
        "import numpy as np\n",
        "import pandas as pd\n",
        "import torch\n",
        "from google.colab import drive\n",
        "from google.colab import files\n",
        "from matplotlib import pyplot as plt\n",
        "from PIL import Image\n",
        "\n",
        "from BrainAgingComputerVision.scripts.loaders import RegressionLoaders, SingleLoader\n",
        "from BrainAgingComputerVision.scripts.Rpredicting import BatchPredict, SinglePredict"
      ]
    },
    {
      "cell_type": "markdown",
      "metadata": {
        "id": "4rbCGq7hPn1u"
      },
      "source": [
        "### Step 3: Load Model and Demo Images\n",
        "\n",
        "This Model is a ResNet18 model that has been updated and trained with an average MAE of 5 years over 10 test sets.  \n",
        "\n",
        "There are 10 images provided in image_data.zip for demonstration purposes: \n",
        "\n",
        "\n",
        "\n"
      ]
    },
    {
      "cell_type": "markdown",
      "source": [
        "![](https://raw.githubusercontent.com/MRWilliamsGit/BrainAgingComputerVision/main/images/examples.png?raw=true)"
      ],
      "metadata": {
        "id": "q47bxpALMfnA"
      }
    },
    {
      "cell_type": "code",
      "source": [
        "#unzip example images\n",
        "!unzip '/content/BrainAgingComputerVision/data/image_data.zip' > /dev/null\n",
        "images = [f for f in os.listdir('/content') if os.path.isfile(os.path.join('/content', f))]\n",
        "\n",
        "#get image metadata\n",
        "filein = '/content/BrainAgingComputerVision/data/cn_age_df.csv'\n",
        "filein2= '/content/BrainAgingComputerVision/data/ad_age_df.csv'\n",
        "data = pd.read_csv(filein)\n",
        "data2 = pd.read_csv(filein2)\n",
        "data3 = pd.concat([data, data2], ignore_index=True)"
      ],
      "metadata": {
        "id": "tbZqzLDXyT6M"
      },
      "execution_count": 4,
      "outputs": []
    },
    {
      "cell_type": "code",
      "source": [
        "data3.head()"
      ],
      "metadata": {
        "colab": {
          "base_uri": "https://localhost:8080/",
          "height": 206
        },
        "id": "qEWBwNIl2tGg",
        "outputId": "0d9ca22f-30b4-40d0-c367-3d54449e4110"
      },
      "execution_count": 6,
      "outputs": [
        {
          "output_type": "execute_result",
          "data": {
            "text/plain": [
              "     Data ID ADNI Subject ID MRI Image ID (Original)    MRI Date Image ID  \\\n",
              "0  0_A_train      035_S_4082                 I242274  2011-06-28  I242274   \n",
              "1  1_A_train      035_S_4082                 I377433  2013-06-17  I377433   \n",
              "2  2_A_train      035_S_4082                 I544645  2015-11-03  I544645   \n",
              "3  7_A_train      022_S_0130                 I229559  2011-04-27  I229559   \n",
              "4  8_A_train      067_S_0059                 I208198  2010-12-10  I208198   \n",
              "\n",
              "    Age Research Group  \n",
              "0  75.5             CN  \n",
              "1  77.5             CN  \n",
              "2  79.9             CN  \n",
              "3  78.5             CN  \n",
              "4  76.0             CN  "
            ],
            "text/html": [
              "\n",
              "  <div id=\"df-8cdb5765-5bd6-452f-86cb-0d91f58e21a4\">\n",
              "    <div class=\"colab-df-container\">\n",
              "      <div>\n",
              "<style scoped>\n",
              "    .dataframe tbody tr th:only-of-type {\n",
              "        vertical-align: middle;\n",
              "    }\n",
              "\n",
              "    .dataframe tbody tr th {\n",
              "        vertical-align: top;\n",
              "    }\n",
              "\n",
              "    .dataframe thead th {\n",
              "        text-align: right;\n",
              "    }\n",
              "</style>\n",
              "<table border=\"1\" class=\"dataframe\">\n",
              "  <thead>\n",
              "    <tr style=\"text-align: right;\">\n",
              "      <th></th>\n",
              "      <th>Data ID</th>\n",
              "      <th>ADNI Subject ID</th>\n",
              "      <th>MRI Image ID (Original)</th>\n",
              "      <th>MRI Date</th>\n",
              "      <th>Image ID</th>\n",
              "      <th>Age</th>\n",
              "      <th>Research Group</th>\n",
              "    </tr>\n",
              "  </thead>\n",
              "  <tbody>\n",
              "    <tr>\n",
              "      <th>0</th>\n",
              "      <td>0_A_train</td>\n",
              "      <td>035_S_4082</td>\n",
              "      <td>I242274</td>\n",
              "      <td>2011-06-28</td>\n",
              "      <td>I242274</td>\n",
              "      <td>75.5</td>\n",
              "      <td>CN</td>\n",
              "    </tr>\n",
              "    <tr>\n",
              "      <th>1</th>\n",
              "      <td>1_A_train</td>\n",
              "      <td>035_S_4082</td>\n",
              "      <td>I377433</td>\n",
              "      <td>2013-06-17</td>\n",
              "      <td>I377433</td>\n",
              "      <td>77.5</td>\n",
              "      <td>CN</td>\n",
              "    </tr>\n",
              "    <tr>\n",
              "      <th>2</th>\n",
              "      <td>2_A_train</td>\n",
              "      <td>035_S_4082</td>\n",
              "      <td>I544645</td>\n",
              "      <td>2015-11-03</td>\n",
              "      <td>I544645</td>\n",
              "      <td>79.9</td>\n",
              "      <td>CN</td>\n",
              "    </tr>\n",
              "    <tr>\n",
              "      <th>3</th>\n",
              "      <td>7_A_train</td>\n",
              "      <td>022_S_0130</td>\n",
              "      <td>I229559</td>\n",
              "      <td>2011-04-27</td>\n",
              "      <td>I229559</td>\n",
              "      <td>78.5</td>\n",
              "      <td>CN</td>\n",
              "    </tr>\n",
              "    <tr>\n",
              "      <th>4</th>\n",
              "      <td>8_A_train</td>\n",
              "      <td>067_S_0059</td>\n",
              "      <td>I208198</td>\n",
              "      <td>2010-12-10</td>\n",
              "      <td>I208198</td>\n",
              "      <td>76.0</td>\n",
              "      <td>CN</td>\n",
              "    </tr>\n",
              "  </tbody>\n",
              "</table>\n",
              "</div>\n",
              "      <button class=\"colab-df-convert\" onclick=\"convertToInteractive('df-8cdb5765-5bd6-452f-86cb-0d91f58e21a4')\"\n",
              "              title=\"Convert this dataframe to an interactive table.\"\n",
              "              style=\"display:none;\">\n",
              "        \n",
              "  <svg xmlns=\"http://www.w3.org/2000/svg\" height=\"24px\"viewBox=\"0 0 24 24\"\n",
              "       width=\"24px\">\n",
              "    <path d=\"M0 0h24v24H0V0z\" fill=\"none\"/>\n",
              "    <path d=\"M18.56 5.44l.94 2.06.94-2.06 2.06-.94-2.06-.94-.94-2.06-.94 2.06-2.06.94zm-11 1L8.5 8.5l.94-2.06 2.06-.94-2.06-.94L8.5 2.5l-.94 2.06-2.06.94zm10 10l.94 2.06.94-2.06 2.06-.94-2.06-.94-.94-2.06-.94 2.06-2.06.94z\"/><path d=\"M17.41 7.96l-1.37-1.37c-.4-.4-.92-.59-1.43-.59-.52 0-1.04.2-1.43.59L10.3 9.45l-7.72 7.72c-.78.78-.78 2.05 0 2.83L4 21.41c.39.39.9.59 1.41.59.51 0 1.02-.2 1.41-.59l7.78-7.78 2.81-2.81c.8-.78.8-2.07 0-2.86zM5.41 20L4 18.59l7.72-7.72 1.47 1.35L5.41 20z\"/>\n",
              "  </svg>\n",
              "      </button>\n",
              "      \n",
              "  <style>\n",
              "    .colab-df-container {\n",
              "      display:flex;\n",
              "      flex-wrap:wrap;\n",
              "      gap: 12px;\n",
              "    }\n",
              "\n",
              "    .colab-df-convert {\n",
              "      background-color: #E8F0FE;\n",
              "      border: none;\n",
              "      border-radius: 50%;\n",
              "      cursor: pointer;\n",
              "      display: none;\n",
              "      fill: #1967D2;\n",
              "      height: 32px;\n",
              "      padding: 0 0 0 0;\n",
              "      width: 32px;\n",
              "    }\n",
              "\n",
              "    .colab-df-convert:hover {\n",
              "      background-color: #E2EBFA;\n",
              "      box-shadow: 0px 1px 2px rgba(60, 64, 67, 0.3), 0px 1px 3px 1px rgba(60, 64, 67, 0.15);\n",
              "      fill: #174EA6;\n",
              "    }\n",
              "\n",
              "    [theme=dark] .colab-df-convert {\n",
              "      background-color: #3B4455;\n",
              "      fill: #D2E3FC;\n",
              "    }\n",
              "\n",
              "    [theme=dark] .colab-df-convert:hover {\n",
              "      background-color: #434B5C;\n",
              "      box-shadow: 0px 1px 3px 1px rgba(0, 0, 0, 0.15);\n",
              "      filter: drop-shadow(0px 1px 2px rgba(0, 0, 0, 0.3));\n",
              "      fill: #FFFFFF;\n",
              "    }\n",
              "  </style>\n",
              "\n",
              "      <script>\n",
              "        const buttonEl =\n",
              "          document.querySelector('#df-8cdb5765-5bd6-452f-86cb-0d91f58e21a4 button.colab-df-convert');\n",
              "        buttonEl.style.display =\n",
              "          google.colab.kernel.accessAllowed ? 'block' : 'none';\n",
              "\n",
              "        async function convertToInteractive(key) {\n",
              "          const element = document.querySelector('#df-8cdb5765-5bd6-452f-86cb-0d91f58e21a4');\n",
              "          const dataTable =\n",
              "            await google.colab.kernel.invokeFunction('convertToInteractive',\n",
              "                                                     [key], {});\n",
              "          if (!dataTable) return;\n",
              "\n",
              "          const docLinkHtml = 'Like what you see? Visit the ' +\n",
              "            '<a target=\"_blank\" href=https://colab.research.google.com/notebooks/data_table.ipynb>data table notebook</a>'\n",
              "            + ' to learn more about interactive tables.';\n",
              "          element.innerHTML = '';\n",
              "          dataTable['output_type'] = 'display_data';\n",
              "          await google.colab.output.renderOutput(dataTable, element);\n",
              "          const docLink = document.createElement('div');\n",
              "          docLink.innerHTML = docLinkHtml;\n",
              "          element.appendChild(docLink);\n",
              "        }\n",
              "      </script>\n",
              "    </div>\n",
              "  </div>\n",
              "  "
            ]
          },
          "metadata": {},
          "execution_count": 6
        }
      ]
    },
    {
      "cell_type": "code",
      "source": [
        "import seaborn as sns\n",
        "sns.displot(data3, x=\"Age\",binwidth=2, hue = 'Research Group')"
      ],
      "metadata": {
        "colab": {
          "base_uri": "https://localhost:8080/",
          "height": 386
        },
        "id": "KTu8r9Mx3NHo",
        "outputId": "857a86cc-9a00-4ef6-f768-b8c036025095"
      },
      "execution_count": 7,
      "outputs": [
        {
          "output_type": "execute_result",
          "data": {
            "text/plain": [
              "<seaborn.axisgrid.FacetGrid at 0x7f4566d3bdd0>"
            ]
          },
          "metadata": {},
          "execution_count": 7
        },
        {
          "output_type": "display_data",
          "data": {
            "text/plain": [
              "<Figure size 447.125x360 with 1 Axes>"
            ],
            "image/png": "[encoded data removed]"
          },
          "metadata": {
            "needs_background": "light"
          }
        }
      ]
    },
    {
      "cell_type": "code",
      "source": [
        "#load model\n",
        "model = torch.load('/content/BrainAgingComputerVision/models/model.pt')"
      ],
      "metadata": {
        "id": "4phMnamx4X1G"
      },
      "execution_count": null,
      "outputs": []
    },
    {
      "cell_type": "markdown",
      "source": [
        "### Step 4: Choose Image "
      ],
      "metadata": {
        "id": "2sdT3_bEGN0x"
      }
    },
    {
      "cell_type": "code",
      "source": [
        "#Pick one of the 10 images to see it and see its age\n",
        "pick = 1\n",
        "\n",
        "#open the image\n",
        "here = os.path.join('/content/',images[pick-1])\n",
        "image_3D = np.load(here)\n",
        "im = Image.fromarray((image_3D[85] * 255).astype(np.uint8))\n",
        "im = np.rot90(im)\n",
        "\n",
        "#plot the image\n",
        "plt.imshow(im, interpolation='nearest', cmap='gray')\n",
        "imgn = images[pick-1].split(\".\")[0]\n",
        "line = data.loc[data['Data ID'] == imgn]\n",
        "label = line.iloc[0][5]\n",
        "plt.title(\"Age: \" + str(label))\n",
        "plt.axis('off');\n"
      ],
      "metadata": {
        "id": "-S0njN9nGS3O",
        "outputId": "ad3e9c58-838e-4f07-aea8-093fd6db289d",
        "colab": {
          "base_uri": "https://localhost:8080/",
          "height": 210
        }
      },
      "execution_count": null,
      "outputs": [
        {
          "output_type": "display_data",
          "data": {
            "text/plain": [
              "<Figure size 216x216 with 1 Axes>"
            ],
            "image/png": "[encoded data removed]"
          },
          "metadata": {
            "needs_background": "light"
          }
        }
      ]
    },
    {
      "cell_type": "markdown",
      "source": [
        "### Step 4: Get Prediction!"
      ],
      "metadata": {
        "id": "dQ0mVATDIYvE"
      }
    },
    {
      "cell_type": "code",
      "source": [
        "device = torch.device(\"cuda:0\" if torch.cuda.is_available() else \"cpu\")\n",
        "\n",
        "#get prediction\n",
        "img = (image_3D[85] * 255).astype(np.uint8)\n",
        "image = SingleLoader(img)\n",
        "pred = SinglePredict(model, image, device)\n",
        "print(\"Pred: \"+str(pred))"
      ],
      "metadata": {
        "id": "XSNQm2lc1qlS",
        "outputId": "d7d9cf5c-be91-4822-ee58-ddb7f0aec192",
        "colab": {
          "base_uri": "https://localhost:8080/"
        }
      },
      "execution_count": null,
      "outputs": [
        {
          "output_type": "stream",
          "name": "stdout",
          "text": [
            "Pred: 86.4\n"
          ]
        }
      ]
    }
  ],
  "metadata": {
    "colab": {
      "collapsed_sections": [],
      "name": "cnn_basics.ipynb",
      "provenance": [],
      "include_colab_link": true
    },
    "kernelspec": {
      "display_name": "Python 3",
      "language": "python",
      "name": "python3"
    },
    "language_info": {
      "codemirror_mode": {
        "name": "ipython",
        "version": 3
      },
      "file_extension": ".py",
      "mimetype": "text/x-python",
      "name": "python",
      "nbconvert_exporter": "python",
      "pygments_lexer": "ipython3",
      "version": "3.8.8"
    }
  },
  "nbformat": 4,
  "nbformat_minor": 0
}
